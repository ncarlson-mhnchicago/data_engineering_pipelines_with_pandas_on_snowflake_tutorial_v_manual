{
 "cells": [
  {
   "cell_type": "markdown",
   "id": "1dde02fa-0044-4b20-b7bb-10f1a5b3fabb",
   "metadata": {
    "collapsed": false,
    "name": "description"
   },
   "source": [
    "### Data Engineering Pipelines with pandas on Snowflake - Manual Version\n",
    "This notebook performs the following:\n",
    "\n",
    "1. Create datframe from a Snowflake table\n",
    "2. Aggregate data to create new features\n",
    "3. Join dataframes\n",
    "4. Save the result into a Snowflake table\n",
    "5. Create a serverless task to schedule the feature engineering pipeline (Currently in Private Preview)\n",
    "\n",
    "Source Data: `SNOWFLAKE_SAMPLE_DATA`\n",
    "\n",
    "Tutorial: https://quickstarts.snowflake.com/guide/data_engineering_pipelines_with_snowpark_pandas/index.html?index=..%2F..index#0\n"
   ]
  },
  {
   "cell_type": "code",
   "execution_count": null,
   "id": "4039104e-54fc-411e-972e-0f5a2d884595",
   "metadata": {
    "codeCollapsed": false,
    "collapsed": false,
    "language": "python",
    "name": "imports"
   },
   "outputs": [],
   "source": [
    "# Imports\n",
    "import streamlit as st\n",
    "import matplotlib.pyplot as plt\n",
    "import seaborn as sns\n",
    "from snowflake.snowpark.context import get_active_session\n",
    "from snowflake.core import Root\n",
    "import snowflake.snowpark.modin.plugin  # Snowpark pandas plugin for modin\n",
    "import modin.pandas as spd  # Snowpark Pandas API\n"
   ]
  },
  {
   "cell_type": "code",
   "execution_count": null,
   "id": "811abc04-f6b8-4ec4-8ad4-34af28ff8c31",
   "metadata": {
    "codeCollapsed": false,
    "collapsed": false,
    "language": "python",
    "name": "set_paths"
   },
   "outputs": [],
   "source": [
    "# Set Paths\n",
    "\n",
    "# Source\n",
    "source_db = \"SNOWFLAKE_SAMPLE_DATA\"\n",
    "source_schema = \"TPCH_SF1\"\n",
    "source_data_path = f\"{source_db}.{source_schema}\"\n",
    "\n",
    "# Target\n",
    "target_db = \"data_engineering_pipelines_with_pandas_on_snowflake_tutorial_v_manual\"\n",
    "target_schema = \"DATA\"\n",
    "target_data_path = f\"{target_db}.{target_schema}\"\n"
   ]
  },
  {
   "cell_type": "code",
   "execution_count": null,
   "id": "d66adbc4-2b92-4d7d-86a5-217ee78e061f",
   "metadata": {
    "codeCollapsed": false,
    "collapsed": false,
    "language": "python",
    "name": "set_session"
   },
   "outputs": [],
   "source": [
    "# Create a snowpark session\n",
    "session = get_active_session()\n",
    "session.use_schema(target_data_path)\n",
    "\n",
    "# Add a query tag to the session for troubleshooting and monitoring\n",
    "session.query_tag = {\n",
    "    \"origin\":\"sf_sit-is\", \n",
    "    \"name\":\"de_pipeline_pandas_on_snowflake\", \n",
    "    \"version\":{\"major\":1, \"minor\":0},\n",
    "    \"attributes\":{\"is_quickstart\":1, \"source\":\"notebook\", \"vignette\":\"snowpark_pandas\"}\n",
    "}\n",
    "\n",
    "# Set root\n",
    "root = Root(session)"
   ]
  },
  {
   "cell_type": "code",
   "execution_count": null,
   "id": "2a091f1b-505f-4b61-9088-e7fd08e16f83",
   "metadata": {
    "codeCollapsed": false,
    "collapsed": false,
    "language": "python",
    "name": "set_lineitem_df"
   },
   "outputs": [],
   "source": [
    "# Get LINEITEM\n",
    "\n",
    "# Set source table and columns\n",
    "table = f\"{source_data_path}.LINEITEM\"\n",
    "lineitem_keep_cols = [\n",
    "    'L_ORDERKEY', \n",
    "    'L_LINENUMBER', \n",
    "    'L_PARTKEY', \n",
    "    'L_RETURNFLAG', \n",
    "    'L_QUANTITY', \n",
    "    'L_DISCOUNT', \n",
    "    'L_EXTENDEDPRICE'\n",
    "]\n",
    "\n",
    "# Create dataframe\n",
    "lineitem_sdf = spd.read_snowflake(table)[lineitem_keep_cols]"
   ]
  },
  {
   "cell_type": "code",
   "execution_count": null,
   "id": "f360d4de-21f4-4723-9778-ceb8683c81c8",
   "metadata": {
    "codeCollapsed": false,
    "collapsed": false,
    "language": "python",
    "name": "lineitem_df_display"
   },
   "outputs": [],
   "source": [
    "# Display lineitem_sdf\n",
    "st.dataframe(lineitem_sdf.head())"
   ]
  },
  {
   "cell_type": "code",
   "execution_count": null,
   "id": "be5d37e2-e990-4e71-b762-41a64845955f",
   "metadata": {
    "codeCollapsed": false,
    "collapsed": false,
    "language": "python",
    "name": "lineitem_df_metadata"
   },
   "outputs": [],
   "source": [
    "# Display lineitem_sdf metadata\n",
    "print(f\"DataFrame shape: {lineitem_sdf.shape}\")\n",
    "lineitem_sdf.info()"
   ]
  },
  {
   "cell_type": "code",
   "execution_count": null,
   "id": "7f9c56b7-b2db-4591-97ce-451876e9b9a6",
   "metadata": {
    "codeCollapsed": false,
    "collapsed": false,
    "language": "python",
    "name": "set_spd_lineitem"
   },
   "outputs": [],
   "source": [
    "# Filter lineitem_sdf\n",
    "\n",
    "# View L_RETURNFLAG values\n",
    "print(lineitem_sdf.L_RETURNFLAG.value_counts())\n",
    "\n",
    "# Create new dataframe that filters out 'A' values\n",
    "lineitem_sdf = lineitem_sdf[lineitem_sdf['L_RETURNFLAG'] != 'A']\n",
    "\n",
    "print(f\"Before Filtering: {len(lineitem_sdf)} rows\")\n",
    "print(f\"After Filtering: {len(lineitem_sdf)} rows\")\n",
    "\n",
    "# Display\n",
    "st.dataframe(lineitem_sdf.head())\n"
   ]
  },
  {
   "cell_type": "code",
   "execution_count": null,
   "id": "58f45f3d-3633-424e-b777-467a2ba0b22d",
   "metadata": {
    "codeCollapsed": false,
    "collapsed": false,
    "language": "python",
    "name": "set_discount_amount"
   },
   "outputs": [],
   "source": [
    "# Add column lineitem_sdf\n",
    "lineitem_sdf['DISCOUNT_AMOUNT'] = lineitem_sdf['L_DISCOUNT'] * lineitem_sdf['L_QUANTITY'] * lineitem_sdf['L_EXTENDEDPRICE']\n",
    "\n",
    "# Display\n",
    "st.dataframe(lineitem_sdf.head())"
   ]
  },
  {
   "cell_type": "code",
   "execution_count": null,
   "id": "578cbdf7-a655-416b-87da-417f7edd35bb",
   "metadata": {
    "codeCollapsed": false,
    "collapsed": false,
    "language": "python",
    "name": "set_spd_lineitem_agg"
   },
   "outputs": [],
   "source": [
    "# Transform lineitem_sdf\n",
    "\n",
    "# Groupings we want\n",
    "column_groupby = ['L_ORDERKEY', 'L_RETURNFLAG']\n",
    "\n",
    "# Aggregations we want to do\n",
    "column_agg = {\n",
    "    'L_QUANTITY':['sum'], # Total Items Ordered  \n",
    "    'DISCOUNT_AMOUNT': ['sum'] # Total Discount Amount\n",
    "}\n",
    "\n",
    "# Apply the aggregation\n",
    "lineitem_sdf = lineitem_sdf.groupby(by=column_groupby, as_index=False).agg(column_agg)\n",
    "\n",
    "# Rename the columns\n",
    "lineitem_sdf.columns = ['L_ORDERKEY', 'L_RETURNFLAG', 'NBR_OF_ITEMS', 'TOT_DISCOUNT_AMOUNT']\n",
    "st.dataframe(lineitem_sdf.head())"
   ]
  },
  {
   "cell_type": "code",
   "execution_count": null,
   "id": "c910ac10-38b3-4aa4-a7d2-6321243a4a60",
   "metadata": {
    "codeCollapsed": false,
    "collapsed": false,
    "language": "python",
    "name": "set_spd_order"
   },
   "outputs": [],
   "source": [
    "# GET ORDERS\n",
    "order_sdf = spd.read_snowflake(f\"{source_data_path}.ORDERS\")\n",
    "\n",
    "# Drop unused columns \n",
    "order_sdf = order_sdf.drop(['O_ORDERPRIORITY', 'O_CLERK', 'O_SHIPPRIORITY', 'O_COMMENT'], axis=1)\n",
    "\n",
    "# Display\n",
    "st.dataframe(order_sdf.head())"
   ]
  },
  {
   "cell_type": "code",
   "execution_count": null,
   "id": "34aa5de6-9ad7-42c6-a35a-65b07e2cfbe5",
   "metadata": {
    "language": "python",
    "name": "set_spd_order_items"
   },
   "outputs": [],
   "source": [
    "# Join LINEITEM and ORDERS\n",
    "customer_profile_sdf = spd.merge(lineitem_sdf, order_sdf,\n",
    "                                         left_on='L_ORDERKEY', \n",
    "                                         right_on='O_ORDERKEY', \n",
    "                                         how='left')\n",
    "# Drop duplicate column\n",
    "customer_profile_sdf.drop('L_ORDERKEY', axis=1, inplace=True)\n",
    "\n",
    "# Display\n",
    "st.dataframe(customer_profile_sdf.head())"
   ]
  },
  {
   "cell_type": "code",
   "execution_count": null,
   "id": "36e32341-cc93-4b5d-a5f1-15a15d8ddf69",
   "metadata": {
    "codeCollapsed": false,
    "collapsed": false,
    "language": "python",
    "name": "set_spd_order_profile"
   },
   "outputs": [],
   "source": [
    "# Transform customer_profile_sdf\n",
    "\n",
    "# Groupings we want\n",
    "column_groupby = ['O_CUSTKEY']\n",
    "\n",
    "# Aggregations we want to do\n",
    "column_agg = {\n",
    "    'O_ORDERKEY':['count'], \n",
    "    'O_TOTALPRICE': ['sum' ,'mean', 'median'],\n",
    "    'TOT_DISCOUNT_AMOUNT': ['sum'],\n",
    "}\n",
    "\n",
    "# Apply the aggregation\n",
    "customer_profile_sdf = customer_profile_sdf.groupby(by=column_groupby, as_index=False).agg(column_agg)\n",
    "\n",
    "# Rename the columns\n",
    "customer_profile_sdf.columns = ['O_CUSTKEY', 'NUMBER_OF_ORDERS', 'TOT_ORDER_AMOUNT', 'AVG_ORDER_AMOUNT', 'MEDIAN_ORDER_AMOUNT', \n",
    "                             'TOT_DISCOUNT_AMOUNT']\n",
    "st.dataframe(customer_profile_sdf.head())"
   ]
  },
  {
   "cell_type": "code",
   "execution_count": null,
   "id": "f7789b8f-a096-450f-85a7-c9e393c1d51f",
   "metadata": {
    "codeCollapsed": false,
    "collapsed": false,
    "language": "python",
    "name": "insert_customer_profile"
   },
   "outputs": [],
   "source": [
    "# Save customer_profile_sdf to table, replace if existing\n",
    "save_path = f\"{target_data_path}.customer_profile\"\n",
    "customer_profile_sdf.to_snowflake(name=save_path, if_exists=\"replace\", index=False)    \n",
    "    "
   ]
  },
  {
   "cell_type": "code",
   "execution_count": null,
   "metadata": {},
   "outputs": [],
   "source": [
    "# View tables\n",
    "tables = root.databases[target_db].schemas[target_schema].tables.iter()\n",
    "# tables = root.databases[target_db].schemas[target_schema].tables.iter(like='CUSTOMER_PROFILE')\n",
    "\n",
    "for table in tables:\n",
    "    print(f\"table: {table}\")"
   ]
  },
  {
   "cell_type": "code",
   "execution_count": null,
   "id": "7aacead4-dba7-4b35-ad0b-23dc173aada2",
   "metadata": {
    "codeCollapsed": false,
    "collapsed": false,
    "language": "sql",
    "name": "select_customer_profile",
    "vscode": {
     "languageId": "snowflake-sql"
    }
   },
   "outputs": [],
   "source": [
    "-- View customer_profile table\n",
    "SELECT * FROM {{target_data_path}}.customer_profile LIMIT 10;"
   ]
  },
  {
   "cell_type": "code",
   "execution_count": null,
   "id": "c467d0df-50d0-4dec-8149-d14c8c897d3c",
   "metadata": {
    "codeCollapsed": false,
    "collapsed": false,
    "language": "python",
    "name": "plot_order_profile"
   },
   "outputs": [],
   "source": [
    "# Visualize data\n",
    "\n",
    "# Convert snowpark df to pandas df\n",
    "customer_profile_df = customer_profile_sdf.to_pandas()\n",
    "\n",
    "# Set figure and axex\n",
    "fig, axes = plt.subplots(1,4,figsize=(15,3))\n",
    "\n",
    "colnames = ['NUMBER_OF_ORDERS', 'AVG_ORDER_AMOUNT', 'TOT_DISCOUNT_AMOUNT', 'MEDIAN_ORDER_AMOUNT']\n",
    "# Iterating through axes and names\n",
    "for col, ax in zip(colnames, axes.flatten()):\n",
    "    ax.set_title(col)\n",
    "    sns.histplot(customer_profile_df, x=col , ax=ax, kde=True, stat=\"density\", kde_kws=dict(cut=3), alpha=.4, edgecolor=(1, 1, 1, .4))\n",
    "fig.tight_layout()"
   ]
  },
  {
   "cell_type": "code",
   "execution_count": null,
   "metadata": {
    "vscode": {
     "languageId": "snowflake-sql"
    }
   },
   "outputs": [],
   "source": [
    "-- Teardown\n",
    "\n",
    "DROP DATABASE data_engineering_pipelines_with_pandas_on_snowflake_tutorial_v_manual;\n",
    "DROP WAREHOUSE TEST_WH;\n",
    "\n"
   ]
  }
 ],
 "metadata": {
  "kernelspec": {
   "display_name": "snowpark_pandas",
   "language": "python",
   "name": "python3"
  },
  "language_info": {
   "codemirror_mode": {
    "name": "ipython",
    "version": 3
   },
   "file_extension": ".py",
   "mimetype": "text/x-python",
   "name": "python",
   "nbconvert_exporter": "python",
   "pygments_lexer": "ipython3",
   "version": "3.9.19"
  },
  "lastEditStatus": {
   "authorEmail": "ncarlson@mhnchicago.org",
   "authorId": "2138240225000",
   "authorName": "NCARLSON",
   "lastEditTime": 1749503864514,
   "notebookId": "hm2unn5kgnbogxoprtow",
   "sessionId": "eb948e60-823e-4a19-b9aa-a31ec79b64cd"
  }
 },
 "nbformat": 4,
 "nbformat_minor": 2
}
